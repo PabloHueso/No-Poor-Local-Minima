{
 "cells": [
  {
   "cell_type": "markdown",
   "metadata": {},
   "source": [
    "### Synthetic dataset generation"
   ]
  },
  {
   "cell_type": "code",
   "execution_count": 28,
   "metadata": {},
   "outputs": [],
   "source": [
    "import torch\n",
    "from torch.utils.data import TensorDataset, DataLoader\n",
    "import seaborn as sns\n",
    "\n",
    "torch.manual_seed(1337)  \n",
    "\n",
    "# Parameters\n",
    "num_samples = 1000  #Corresponds to m in the paper\n",
    "dim_x = 10  \n",
    "dim_y = 10  \n",
    "\n",
    "# Dataset creation\n",
    "\n",
    "# Matrix creation\n",
    "def random_positive_diagonal_matrix(n, m):\n",
    "    # Generate evenly spaced positive distinct values\n",
    "    values = torch.linspace(1, 10, steps=n)\n",
    "    # Shuffle the values to make them random\n",
    "    values = values[torch.randperm(n)]\n",
    "    # Create a diagonal matrix of size (n x n)\n",
    "    D = torch.diag(values)\n",
    "    # If n != m, pad or truncate the diagonal matrix to size (n x m)\n",
    "    if n < m:\n",
    "        D = torch.cat([D, torch.zeros(n, m - n)], dim=1)\n",
    "    elif n > m:\n",
    "        D = D[:m, :m]\n",
    "    return D\n",
    "    \n",
    "def random_orthogonal_matrix(n,m):\n",
    "    U, _ = torch.linalg.qr(torch.randn(n, m), mode='reduced')\n",
    "    return U\n",
    "    \n",
    "def diagonal_matrix_with_d_distinct_values(m, n, d):\n",
    "    min_dim = min(m, n)\n",
    "    d=int(d)\n",
    "    if d > min_dim or d < 1:\n",
    "        raise ValueError(\"d must satisfy 1 <= d <= min(m, n)\")\n",
    "\n",
    "    # Generate exactly d distinct values\n",
    "    distinct_values = torch.linspace(1, 10, steps=d)\n",
    "\n",
    "    # Randomly assign these d values to fill the entire diagonal with repetition\n",
    "    diagonal_values = torch.randint(0, d, (min_dim,))  # Random indices for selection\n",
    "    shuffled_diagonal = distinct_values[diagonal_values]  # Assign selected values\n",
    "\n",
    "    # Create a diagonal matrix\n",
    "    D = torch.zeros(m, n)\n",
    "    for i in range(min_dim):\n",
    "        D[i, i] = shuffled_diagonal[i]  # Fill diagonal with repeated distinct values\n",
    "\n",
    "    return D\n",
    "\n",
    "def diagonal_matrix_with_d_zeros(m, n, d):\n",
    "\n",
    "    min_dim = min(m, n)\n",
    "    if d > min_dim or d < 0:\n",
    "        raise ValueError(\"d must satisfy 0 <= d <= min(m, n)\")\n",
    "\n",
    "    # Generate non-zero values for the diagonal\n",
    "    non_zero_values = torch.ones(min_dim - d)  # You can replace this with other positive values\n",
    "\n",
    "    # Combine zeros and non-zero values\n",
    "    diagonal_values = torch.cat([torch.zeros(d), non_zero_values])\n",
    "\n",
    "    # Shuffle the diagonal values to randomize the positions of zeros\n",
    "    diagonal_values = diagonal_values[torch.randperm(min_dim)]\n",
    "\n",
    "    # Create a rectangular diagonal matrix\n",
    "    D = torch.zeros(m, n)\n",
    "    for i in range(min_dim):\n",
    "        D[i, i] = diagonal_values[i]\n",
    "\n",
    "    return D\n",
    "    \n",
    "\n",
    "\n"
   ]
  },
  {
   "cell_type": "code",
   "execution_count": 36,
   "metadata": {},
   "outputs": [],
   "source": [
    "\n",
    "#Not satisfying condition on Sigma\n",
    "\n",
    "D2_p=diagonal_matrix_with_d_distinct_values(dim_y,num_samples , dim_y-2)\n",
    "\n",
    "Y2=U_p @ D2_p @ V.T\n",
    "X2=U @ D @ V.T #still ok\n",
    "\n",
    "\n"
   ]
  },
  {
   "cell_type": "code",
   "execution_count": 56,
   "metadata": {
    "scrolled": true
   },
   "outputs": [
    {
     "data": {
      "text/plain": [
       "array([100. ,  37.7,  75.9,  75.9,  23.6,  12.8,   1. ,   1. ,   5.2,\n",
       "         5.2], dtype=float32)"
      ]
     },
     "execution_count": 56,
     "metadata": {},
     "output_type": "execute_result"
    }
   ],
   "source": [
    "#checking that Y doesn't have distinct singular values\n",
    "np.round(np.linalg.eigvals(Y2@Y2.T), decimals=1)"
   ]
  },
  {
   "cell_type": "code",
   "execution_count": 58,
   "metadata": {},
   "outputs": [],
   "source": [
    "# Create a TensorDataset and DataLoader\n",
    "from torch.utils.data import TensorDataset, DataLoader\n",
    "\n",
    "dataset = TensorDataset(X2, Y2)\n",
    "batch_size = len(dataset)  # Full-batch mode\n",
    "\n",
    "dataloader = DataLoader(dataset, batch_size=batch_size, shuffle=False)"
   ]
  },
  {
   "cell_type": "code",
   "execution_count": 81,
   "metadata": {},
   "outputs": [],
   "source": [
    "import numpy as np\n",
    "\n",
    "def check_conditions(X, Y):\n",
    "    \"\"\"\n",
    "    Checks the following conditions for matrices X (d_x x m) and Y (d_y x m):\n",
    "      1. d_x >= d_y\n",
    "      2. Sigma = YX^T (XX^T)^{-1} XY^T has d_y distinct eigenvalues.\n",
    "      3. XX^T is full rank (i.e. rank = d_x).\n",
    "      4. XY^T is full rank (i.e. rank = d_y).\n",
    "    \n",
    "    Returns a dictionary with the verification result (\"yes\" or \"no\")\n",
    "    for each condition.\n",
    "    \"\"\"\n",
    "    results = {}\n",
    "    \n",
    "    # Extract dimensions\n",
    "    d_x, m1 = X.shape\n",
    "    d_y, m2 = Y.shape\n",
    "\n",
    "    # Condition 1: d_x >= d_y\n",
    "    results[\"Condition 1 verified\"] = \"yes\" if d_x >= d_y else \"no\"\n",
    "\n",
    "    # Condition 3: XX^T has full rank (rank should equal d_x)\n",
    "    XXT = X @ X.T\n",
    "    rank_XXT = np.linalg.matrix_rank(XXT)\n",
    "    condition3_verified = (rank_XXT == d_x)\n",
    "    results[\"Condition 3 verified\"] = \"yes\" if condition3_verified else \"no\"\n",
    "\n",
    "    # Condition 4: XY^T has full rank (rank should equal d_y)\n",
    "    XYT = X @ Y.T\n",
    "    condition4_verified = (np.linalg.matrix_rank(XYT) == d_y)\n",
    "    results[\"Condition 4 verified\"] = \"yes\" if condition4_verified else \"no\"\n",
    "\n",
    "    # Condition 2: Sigma = YX^T (XX^T)^{-1} XY^T has d_y distinct eigenvalues.\n",
    "    # This condition is only sensible if XX^T is invertible (i.e. Condition 3 holds)\n",
    "    if condition3_verified:\n",
    "        try:\n",
    "            inv_XXT = np.linalg.inv(XXT)\n",
    "        except np.linalg.LinAlgError:\n",
    "            inv_XXT = None\n",
    "        \n",
    "        if inv_XXT is not None:\n",
    "            Sigma = Y @ X.T @ inv_XXT @ X @ Y.T\n",
    "            eigvals = np.linalg.eigvals(Sigma)\n",
    "            # Round eigenvalues to 1 decimal places to account for numerical precision.\n",
    "            unique_eigs = np.unique(np.round(eigvals, decimals=1))\n",
    "            condition2_verified = (len(unique_eigs) == d_y)\n",
    "            results[\"Condition 2 verified\"] = \"yes\" if condition2_verified else \"no\"\n",
    "        else:\n",
    "            results[\"Condition 2 verified\"] = \"no\"\n",
    "    else:\n",
    "        results[\"Condition 2 verified\"] = \"no\"\n",
    "    \n",
    "    return results"
   ]
  },
  {
   "cell_type": "code",
   "execution_count": 79,
   "metadata": {},
   "outputs": [
    {
     "name": "stdout",
     "output_type": "stream",
     "text": [
      "Condition 1 verified: yes\n",
      "Condition 3 verified: yes\n",
      "Condition 4 verified: yes\n",
      "Condition 2 verified: no\n"
     ]
    }
   ],
   "source": [
    "\n",
    "condition_results = check_conditions(X2, Y2)\n",
    "    \n",
    "    # Print the results.\n",
    "for condition, verified in condition_results.items():\n",
    "    print(f\"{condition}: {verified}\")"
   ]
  },
  {
   "cell_type": "markdown",
   "metadata": {},
   "source": [
    "### Model instantiation, optimizer and loss function"
   ]
  },
  {
   "cell_type": "code",
   "execution_count": 64,
   "metadata": {},
   "outputs": [],
   "source": [
    "import torch.nn as nn\n",
    "import sys\n",
    "import os\n",
    "\n",
    "# Import \n",
    "current_dir = os.getcwd()\n",
    "parent_dir = os.path.abspath(os.path.join(current_dir, '..'))\n",
    "if parent_dir not in sys.path:\n",
    "    sys.path.append(parent_dir)\n",
    "\n",
    "from Utils.classes import LinearNN\n",
    "\n",
    "# Define hidden layer dimensions\n",
    "hidden_dims = [64, 32]\n",
    "\n",
    "# Instantiate the model\n",
    "# Directly pass hidden dimensions as positional arguments\n",
    "model = LinearNN(dim_x=10, dim_y=1, hidden_dims=hidden_dims)\n",
    "\n",
    "\n",
    "# Define the loss function\n",
    "criterion = nn.MSELoss()\n",
    "\n",
    "# Define the optimizer\n",
    "learning_rate = 0.01\n",
    "optimizer = torch.optim.Adadelta(model.parameters(), lr=learning_rate)"
   ]
  },
  {
   "cell_type": "markdown",
   "metadata": {},
   "source": [
    "### Linear Experment 3: condition on Sigma not verified"
   ]
  },
  {
   "cell_type": "code",
   "execution_count": 93,
   "metadata": {},
   "outputs": [],
   "source": [
    "import torch\n",
    "import torch.nn as nn\n",
    "from torch.utils.data import TensorDataset, DataLoader\n",
    "import numpy as np\n",
    "import matplotlib.pyplot as plt\n",
    "from tqdm import tqdm\n",
    "\n",
    "\n",
    "def run_multiple_inits_plot(\n",
    "    X,\n",
    "    Y,\n",
    "    hidden_dims: list = [64, 32],\n",
    "    learning_rate: float = 0.01,\n",
    "    num_runs: int = 5,\n",
    "    num_iterations: int = 100\n",
    "):\n",
    "    \"\"\"\n",
    "    Trains a model multiple times (each with a new random initialization)\n",
    "    and plots the final loss of each run.\n",
    "\n",
    "    Automatically converts X and Y from NumPy arrays to torch.Tensors if needed.\n",
    "\n",
    "    Args:\n",
    "        X (array-like): Input features of shape (N, dim_x). Can be NumPy array or torch.Tensor.\n",
    "        Y (array-like): Targets of shape (N, dim_y). Can be NumPy array or torch.Tensor.\n",
    "        hidden_dims (list): List of hidden layer sizes for the MLP.\n",
    "        learning_rate (float): Learning rate for the optimizer.\n",
    "        num_runs (int): How many times to re-initialize and train the model.\n",
    "        num_iterations (int): Number of full-batch training epochs per run.\n",
    "    \"\"\"\n",
    "    # 1) Convert NumPy arrays to torch.Tensor if needed\n",
    "    if isinstance(X, np.ndarray):\n",
    "        X = torch.from_numpy(X).float()\n",
    "    if isinstance(Y, np.ndarray):\n",
    "        Y = torch.from_numpy(Y).float()\n",
    "\n",
    "    # 2) Infer dimensions from data: \n",
    "    #    X: (N, dim_x) => dim_x = X.size(1)\n",
    "    #    Y: (N, dim_y) => dim_y = Y.size(1)\n",
    "    dim_x = X.size(1)\n",
    "    dim_y = Y.size(1)\n",
    "\n",
    "    # 3) Create a DataLoader in full-batch mode\n",
    "    dataset = TensorDataset(X, Y)\n",
    "    dataloader = DataLoader(dataset, batch_size=len(dataset), shuffle=False)\n",
    "\n",
    "    final_losses = []\n",
    "    final_params_list = []\n",
    "    \n",
    "    # 4) Outer progress bar: how many runs are completed\n",
    "    for run_id in tqdm(range(num_runs), desc=\"Overall runs\"):\n",
    "        # Set the seed so each run has a reproducible but unique init\n",
    "        torch.manual_seed(run_id)\n",
    "        np.random.seed(run_id)\n",
    "        \n",
    "        # Create a fresh model and optimizer each run\n",
    "        model = LinearNN(dim_x, dim_y, hidden_dims)\n",
    "        optimizer = torch.optim.Adadelta(model.parameters(), lr=learning_rate)\n",
    "        criterion = nn.MSELoss()\n",
    "        \n",
    "        # 5) Inner progress bar: training epochs\n",
    "        for epoch in tqdm(range(num_iterations), desc=f\"Run {run_id}\", leave=False):\n",
    "            model.train()\n",
    "            for batch_X, batch_Y in dataloader:\n",
    "                optimizer.zero_grad()\n",
    "                outputs = model(batch_X)\n",
    "                loss = criterion(outputs, batch_Y)\n",
    "                loss.backward()\n",
    "                optimizer.step()\n",
    "        \n",
    "        # 6) Record the final loss and parameters\n",
    "        final_loss = loss.item()  # last computed loss\n",
    "        final_losses.append(final_loss)\n",
    "\n",
    "        # Flatten and store final parameters\n",
    "        final_params = torch.cat([p.flatten() for p in model.parameters()]).detach().cpu()\n",
    "        final_params_list.append(final_params)\n",
    "    \n",
    "    # 7) Plot final losses across runs\n",
    "    sns.set_style(\"whitegrid\")\n",
    "    sns.set_palette(\"husl\")  # Use a nice color palette\n",
    "    \n",
    "    plt.figure(figsize=(8, 5))\n",
    "    bars = plt.bar(range(num_runs), final_losses, edgecolor=\"black\", alpha=0.8)\n",
    "    \n",
    "    # Add annotations (values on top of bars)\n",
    "    for bar in bars:\n",
    "        height = bar.get_height()\n",
    "        plt.text(bar.get_x() + bar.get_width() / 2, height, f\"{height:.4f}\",\n",
    "                 ha=\"center\", va=\"bottom\", fontsize=6)\n",
    "    \n",
    "    # Add a horizontal line for the mean loss\n",
    "    mean_loss = np.mean(final_losses)\n",
    "    plt.axhline(mean_loss, color=\"red\", linestyle=\"--\", linewidth=1.5, label=f\"Mean Loss: {mean_loss:.4f}\")\n",
    "    \n",
    "    # Customize labels and title\n",
    "    plt.xlabel(\"Run Index (Seed)\", fontsize=12)\n",
    "    plt.ylabel(\"Final Training Loss\", fontsize=12)\n",
    "    plt.title(\"Final Training Loss for Multiple Runs (Different Initializations)\", fontsize=14, pad=20)\n",
    "    \n",
    "    # Add legend\n",
    "    plt.legend(loc=\"upper right\", fontsize=10)\n",
    "    \n",
    "    # Adjust ticks and layout\n",
    "    plt.xticks(range(num_runs), fontsize=5)\n",
    "    plt.yticks(fontsize=10)\n",
    "    plt.tight_layout()\n",
    "    plt.savefig('bad_sigma_losses')\n",
    "    plt.show()\n",
    "    # Return the final losses and parameters for further analysis\n",
    "    return final_losses, final_params_list\n"
   ]
  },
  {
   "cell_type": "code",
   "execution_count": 95,
   "metadata": {
    "scrolled": true
   },
   "outputs": [
    {
     "name": "stderr",
     "output_type": "stream",
     "text": [
      "Overall runs:   0%|                                      | 0/20 [00:00<?, ?it/s]\n",
      "Run 0:   0%|                                            | 0/500 [00:00<?, ?it/s]\u001b[A\n",
      "Run 0:  38%|████████████▎                   | 192/500 [00:00<00:00, 1918.87it/s]\u001b[A\n",
      "Run 0:  83%|██████████████████████████▋     | 417/500 [00:00<00:00, 2110.79it/s]\u001b[A\n",
      "Overall runs:   5%|█▌                            | 1/20 [00:00<00:04,  4.03it/s]\u001b[A\n",
      "Run 1:   0%|                                            | 0/500 [00:00<?, ?it/s]\u001b[A\n",
      "Run 1:  44%|██████████████▏                 | 222/500 [00:00<00:00, 2211.38it/s]\u001b[A\n",
      "Run 1:  89%|████████████████████████████▍   | 444/500 [00:00<00:00, 2212.79it/s]\u001b[A\n",
      "Overall runs:  10%|███                           | 2/20 [00:00<00:04,  4.21it/s]\u001b[A\n",
      "Run 2:   0%|                                            | 0/500 [00:00<?, ?it/s]\u001b[A\n",
      "Run 2:  43%|█████████████▉                  | 217/500 [00:00<00:00, 2162.08it/s]\u001b[A\n",
      "Run 2:  91%|█████████████████████████████▏  | 456/500 [00:00<00:00, 2287.15it/s]\u001b[A\n",
      "Overall runs:  15%|████▌                         | 3/20 [00:00<00:03,  4.31it/s]\u001b[A\n",
      "Run 3:   0%|                                            | 0/500 [00:00<?, ?it/s]\u001b[A\n",
      "Run 3:  50%|████████████████▏               | 252/500 [00:00<00:00, 2513.17it/s]\u001b[A\n",
      "Overall runs:  20%|██████                        | 4/20 [00:00<00:03,  4.57it/s]\u001b[A\n",
      "Run 4:   0%|                                            | 0/500 [00:00<?, ?it/s]\u001b[A\n",
      "Run 4:  52%|████████████████▌               | 259/500 [00:00<00:00, 2584.88it/s]\u001b[A\n",
      "Overall runs:  25%|███████▌                      | 5/20 [00:01<00:03,  4.71it/s]\u001b[A\n",
      "Run 5:   0%|                                            | 0/500 [00:00<?, ?it/s]\u001b[A\n",
      "Run 5:  47%|███████████████                 | 235/500 [00:00<00:00, 2349.31it/s]\u001b[A\n",
      "Run 5:  94%|██████████████████████████████  | 470/500 [00:00<00:00, 2323.94it/s]\u001b[A\n",
      "Overall runs:  30%|█████████                     | 6/20 [00:01<00:03,  4.64it/s]\u001b[A\n",
      "Run 6:   0%|                                            | 0/500 [00:00<?, ?it/s]\u001b[A\n",
      "Run 6:  50%|███████████████▉                | 249/500 [00:00<00:00, 2484.06it/s]\u001b[A\n",
      "Overall runs:  35%|██████████▌                   | 7/20 [00:01<00:02,  4.77it/s]\u001b[A\n",
      "Run 7:   0%|                                            | 0/500 [00:00<?, ?it/s]\u001b[A\n",
      "Run 7:  55%|█████████████████▍              | 273/500 [00:00<00:00, 2722.60it/s]\u001b[A\n",
      "Overall runs:  40%|████████████                  | 8/20 [00:01<00:02,  4.93it/s]\u001b[A\n",
      "Run 8:   0%|                                            | 0/500 [00:00<?, ?it/s]\u001b[A\n",
      "Run 8:  52%|████████████████▋               | 261/500 [00:00<00:00, 2602.04it/s]\u001b[A\n",
      "Overall runs:  45%|█████████████▌                | 9/20 [00:01<00:02,  4.99it/s]\u001b[A\n",
      "Run 9:   0%|                                            | 0/500 [00:00<?, ?it/s]\u001b[A\n",
      "Run 9:  50%|███████████████▉                | 249/500 [00:00<00:00, 2486.98it/s]\u001b[A\n",
      "Overall runs:  50%|██████████████▌              | 10/20 [00:02<00:01,  5.01it/s]\u001b[A\n",
      "Run 10:   0%|                                           | 0/500 [00:00<?, ?it/s]\u001b[A\n",
      "Run 10:  52%|████████████████▏              | 262/500 [00:00<00:00, 2611.27it/s]\u001b[A\n",
      "Overall runs:  55%|███████████████▉             | 11/20 [00:02<00:01,  5.02it/s]\u001b[A\n",
      "Run 11:   0%|                                           | 0/500 [00:00<?, ?it/s]\u001b[A\n",
      "Run 11:  49%|███████████████▎               | 246/500 [00:00<00:00, 2453.70it/s]\u001b[A\n",
      "Overall runs:  60%|█████████████████▍           | 12/20 [00:02<00:01,  5.02it/s]\u001b[A\n",
      "Run 12:   0%|                                           | 0/500 [00:00<?, ?it/s]\u001b[A\n",
      "Run 12:  52%|████████████████▏              | 262/500 [00:00<00:00, 2612.35it/s]\u001b[A\n",
      "Overall runs:  65%|██████████████████▊          | 13/20 [00:02<00:01,  5.08it/s]\u001b[A\n",
      "Run 13:   0%|                                           | 0/500 [00:00<?, ?it/s]\u001b[A\n",
      "Run 13:  53%|████████████████▍              | 265/500 [00:00<00:00, 2649.31it/s]\u001b[A\n",
      "Overall runs:  70%|████████████████████▎        | 14/20 [00:02<00:01,  5.08it/s]\u001b[A\n",
      "Run 14:   0%|                                           | 0/500 [00:00<?, ?it/s]\u001b[A\n",
      "Run 14:  48%|██████████████▊                | 239/500 [00:00<00:00, 2384.09it/s]\u001b[A\n",
      "Run 14:  98%|██████████████████████████████▍| 490/500 [00:00<00:00, 2455.58it/s]\u001b[A\n",
      "Overall runs:  75%|█████████████████████▊       | 15/20 [00:03<00:01,  4.99it/s]\u001b[A\n",
      "Run 15:   0%|                                           | 0/500 [00:00<?, ?it/s]\u001b[A\n",
      "Run 15:  42%|█████████████                  | 210/500 [00:00<00:00, 2099.14it/s]\u001b[A\n",
      "Run 15:  84%|██████████████████████████     | 420/500 [00:00<00:00, 1996.63it/s]\u001b[A\n",
      "Overall runs:  80%|███████████████████████▏     | 16/20 [00:03<00:00,  4.65it/s]\u001b[A\n",
      "Run 16:   0%|                                           | 0/500 [00:00<?, ?it/s]\u001b[A\n",
      "Run 16:  52%|████████████████▏              | 262/500 [00:00<00:00, 2611.93it/s]\u001b[A\n",
      "Overall runs:  85%|████████████████████████▋    | 17/20 [00:03<00:00,  4.80it/s]\u001b[A\n",
      "Run 17:   0%|                                           | 0/500 [00:00<?, ?it/s]\u001b[A\n",
      "Run 17:  52%|███████████████▉               | 258/500 [00:00<00:00, 2577.94it/s]\u001b[A\n",
      "Overall runs:  90%|██████████████████████████   | 18/20 [00:03<00:00,  4.90it/s]\u001b[A\n",
      "Run 18:   0%|                                           | 0/500 [00:00<?, ?it/s]\u001b[A\n",
      "Run 18:  49%|███████████████▎               | 246/500 [00:00<00:00, 2456.93it/s]\u001b[A\n",
      "Overall runs:  95%|███████████████████████████▌ | 19/20 [00:03<00:00,  4.92it/s]\u001b[A\n",
      "Run 19:   0%|                                           | 0/500 [00:00<?, ?it/s]\u001b[A\n",
      "Run 19:  50%|███████████████▍               | 249/500 [00:00<00:00, 2481.22it/s]\u001b[A\n",
      "Overall runs: 100%|█████████████████████████████| 20/20 [00:04<00:00,  4.84it/s]\u001b[A\n"
     ]
    },
    {
     "data": {
      "image/png": "[encoded data removed]",
      "text/plain": [
       "<Figure size 800x500 with 1 Axes>"
      ]
     },
     "metadata": {},
     "output_type": "display_data"
    }
   ],
   "source": [
    "final_losses, final_params = run_multiple_inits_plot(\n",
    "    X2, Y2,\n",
    "    hidden_dims=[64, 32],\n",
    "    learning_rate=0.01,\n",
    "    num_runs=20,\n",
    "    num_iterations=500\n",
    ")"
   ]
  },
  {
   "cell_type": "code",
   "execution_count": 83,
   "metadata": {},
   "outputs": [],
   "source": [
    "def biggest_difference(list):\n",
    "    \n",
    "    # Calculate the maximum and minimum values in the list\n",
    "    max_value = max(list)\n",
    "    min_value = min(list)\n",
    "    \n",
    "    # Compute the biggest difference\n",
    "    biggest_diff = max_value - min_value\n",
    "    \n",
    "    return biggest_diff"
   ]
  },
  {
   "cell_type": "code",
   "execution_count": 85,
   "metadata": {},
   "outputs": [
    {
     "data": {
      "text/plain": [
       "0.00039000436663627625"
      ]
     },
     "execution_count": 85,
     "metadata": {},
     "output_type": "execute_result"
    }
   ],
   "source": [
    "#The biggest difference in losses for good data and different initialisations\n",
    "biggest_difference(final_losses)"
   ]
  },
  {
   "cell_type": "code",
   "execution_count": 87,
   "metadata": {},
   "outputs": [],
   "source": [
    "def param_distance(p1, p2):\n",
    "    # p1 and p2 are PyTorch tensors\n",
    "    return torch.norm(p1 - p2).item()"
   ]
  },
  {
   "cell_type": "code",
   "execution_count": 89,
   "metadata": {},
   "outputs": [],
   "source": [
    "import numpy as np\n",
    "import matplotlib.pyplot as plt\n",
    "\n",
    "num_runs = len(final_params)\n",
    "dist_matrix = np.zeros((num_runs, num_runs))\n",
    "\n",
    "for i in range(num_runs):\n",
    "    for j in range(num_runs):\n",
    "        dist_matrix[i, j] = param_distance(final_params[i], final_params[j])\n",
    "\n"
   ]
  },
  {
   "cell_type": "code",
   "execution_count": 91,
   "metadata": {
    "scrolled": true
   },
   "outputs": [
    {
     "data": {
      "image/png": "[encoded data removed]",
      "text/plain": [
       "<Figure size 640x480 with 2 Axes>"
      ]
     },
     "metadata": {},
     "output_type": "display_data"
    }
   ],
   "source": [
    "plt.imshow(dist_matrix, cmap='viridis', interpolation='nearest')\n",
    "plt.colorbar()\n",
    "plt.xlabel(\"Run index\")\n",
    "plt.ylabel(\"Run index\")\n",
    "plt.title(\"Pairwise Distances (Argmins in Parameter Space)\")\n",
    "plt.show()\n"
   ]
  },
  {
   "cell_type": "markdown",
   "metadata": {},
   "source": [
    "They are indeed different argmin!"
   ]
  }
 ],
 "metadata": {
  "kernelspec": {
   "display_name": "Python [conda env:base] *",
   "language": "python",
   "name": "conda-base-py"
  },
  "language_info": {
   "codemirror_mode": {
    "name": "ipython",
    "version": 3
   },
   "file_extension": ".py",
   "mimetype": "text/x-python",
   "name": "python",
   "nbconvert_exporter": "python",
   "pygments_lexer": "ipython3",
   "version": "3.12.7"
  }
 },
 "nbformat": 4,
 "nbformat_minor": 4
}
