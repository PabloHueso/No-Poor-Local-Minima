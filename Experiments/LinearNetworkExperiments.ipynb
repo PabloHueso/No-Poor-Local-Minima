{
 "cells": [
  {
   "cell_type": "markdown",
   "metadata": {},
   "source": [
    "### Synthetic dataset generation"
   ]
  },
  {
   "cell_type": "code",
   "execution_count": 1,
   "metadata": {},
   "outputs": [],
   "source": [
    "import torch\n",
    "from torch.utils.data import TensorDataset, DataLoader\n",
    "\n",
    "torch.manual_seed(1337)  \n",
    "\n",
    "# Parameters\n",
    "num_samples = 1000  #Corresponds to m in the paper\n",
    "dim_x = 10  \n",
    "dim_y = 10  \n",
    "\n",
    "# Dataset creation\n",
    "\n",
    "# Matrix creation\n",
    "def random_positive_diagonal_matrix(n, m):\n",
    "    # Generate evenly spaced positive distinct values\n",
    "    values = torch.linspace(1, 10, steps=n)\n",
    "    # Shuffle the values to make them random\n",
    "    values = values[torch.randperm(n)]\n",
    "    # Create a diagonal matrix of size (n x n)\n",
    "    D = torch.diag(values)\n",
    "    # If n != m, pad or truncate the diagonal matrix to size (n x m)\n",
    "    if n < m:\n",
    "        D = torch.cat([D, torch.zeros(n, m - n)], dim=1)\n",
    "    elif n > m:\n",
    "        D = D[:m, :m]\n",
    "    return D\n",
    "    \n",
    "def random_orthogonal_matrix(n,m):\n",
    "    U, _ = torch.linalg.qr(torch.randn(n, m), mode='reduced')\n",
    "    return U\n",
    "    \n",
    "def diagonal_matrix_with_d_distinct_values(m, n, d):\n",
    "    min_dim = min(m, n)\n",
    "    if d > min_dim or d < 1:\n",
    "        raise ValueError(\"d must satisfy 1 <= d <= min(m, n)\")\n",
    "\n",
    "    # Generate d distinct positive values\n",
    "    distinct_values = torch.linspace(1, 10, steps=d)\n",
    "\n",
    "    # Repeat the distinct values to fill the diagonal\n",
    "    diagonal_values = torch.cat([distinct_values, distinct_values[:min_dim - d]])\n",
    "\n",
    "    # Shuffle the diagonal values to randomize their order\n",
    "    diagonal_values = diagonal_values[torch.randperm(min_dim)]\n",
    "\n",
    "    # Create a rectangular diagonal matrix\n",
    "    D = torch.zeros(m, n)\n",
    "    for i in range(min_dim):\n",
    "        D[i, i] = diagonal_values[i]\n",
    "    return D\n",
    "\n",
    "def diagonal_matrix_with_d_zeros(m, n, d):\n",
    "\n",
    "    min_dim = min(m, n)\n",
    "    if d > min_dim or d < 0:\n",
    "        raise ValueError(\"d must satisfy 0 <= d <= min(m, n)\")\n",
    "\n",
    "    # Generate non-zero values for the diagonal\n",
    "    non_zero_values = torch.ones(min_dim - d)  # You can replace this with other positive values\n",
    "\n",
    "    # Combine zeros and non-zero values\n",
    "    diagonal_values = torch.cat([torch.zeros(d), non_zero_values])\n",
    "\n",
    "    # Shuffle the diagonal values to randomize the positions of zeros\n",
    "    diagonal_values = diagonal_values[torch.randperm(min_dim)]\n",
    "\n",
    "    # Create a rectangular diagonal matrix\n",
    "    D = torch.zeros(m, n)\n",
    "    for i in range(min_dim):\n",
    "        D[i, i] = diagonal_values[i]\n",
    "\n",
    "    return D\n",
    "    \n",
    "#Satisfying all conditions\n",
    "U=random_orthogonal_matrix(dim_y,dim_y)\n",
    "V=random_orthogonal_matrix(num_samples,num_samples)\n",
    "D=random_positive_diagonal_matrix(dim_y, num_samples)\n",
    "\n",
    "U_p=random_orthogonal_matrix(dim_y,dim_y)\n",
    "D_p=random_positive_diagonal_matrix(dim_y, num_samples)\n",
    "\n",
    "X=U @ D @ V.T\n",
    "Y=U_p @ D_p @ V.T\n",
    "\n",
    "#Not satisfying condition (1)\n",
    "'''\n",
    "D2_p=diagonal_matrix_with_d_distinct_values(dim_y,num_samples , dim_y/2)\n",
    "Y2=U_p @ D2_p @ V.T\n",
    "X2=U @ D @ V.T #still ok\n",
    "#Not satisfying condition (2)\n",
    "D3=diagonal_matrix_with_d_zeros(dim_x,num_samples , dim_x/2)\n",
    "Y3=U_p @ D_p @ V.T #still ok\n",
    "#Not satisfying condition (3)\n",
    "'''\n",
    "'''\n",
    "X = torch.randn(num_samples, dim_x)\n",
    "true_weights = torch.randn(dim_x, dim_y)\n",
    "Y = X @ true_weights + 0.1 * torch.randn(num_samples, dim_y) #Y = XW + noise\n",
    "'''\n",
    "\n",
    "# Create a TensorDataset and DataLoader\n",
    "from torch.utils.data import TensorDataset, DataLoader\n",
    "\n",
    "dataset = TensorDataset(X, Y)\n",
    "batch_size = len(dataset)  # Full-batch mode\n",
    "\n",
    "dataloader = DataLoader(dataset, batch_size=batch_size, shuffle=False)\n"
   ]
  },
  {
   "cell_type": "markdown",
   "metadata": {},
   "source": [
    "### Model instantiation, optimizer and loss function"
   ]
  },
  {
   "cell_type": "code",
   "execution_count": 2,
   "metadata": {},
   "outputs": [],
   "source": [
    "import torch.nn as nn\n",
    "import sys\n",
    "import os\n",
    "\n",
    "# Import \n",
    "current_dir = os.getcwd()\n",
    "parent_dir = os.path.abspath(os.path.join(current_dir, '..'))\n",
    "if parent_dir not in sys.path:\n",
    "    sys.path.append(parent_dir)\n",
    "\n",
    "from Utils.classes import LinearNN\n",
    "\n",
    "# Define hidden layer dimensions\n",
    "hidden_dims = [64, 32]\n",
    "\n",
    "# Instantiate the model\n",
    "# Directly pass hidden dimensions as positional arguments\n",
    "model = LinearNN(dim_x=10, dim_y=1, hidden_dims=hidden_dims)\n",
    "\n",
    "\n",
    "# Define the loss function\n",
    "criterion = nn.MSELoss()\n",
    "\n",
    "# Define the optimizer\n",
    "learning_rate = 0.01\n",
    "optimizer = torch.optim.Adadelta(model.parameters(), lr=learning_rate)"
   ]
  },
  {
   "cell_type": "markdown",
   "metadata": {},
   "source": [
    "### Linear Experment 1: no poor local minima"
   ]
  },
  {
   "cell_type": "code",
   "execution_count": 3,
   "metadata": {},
   "outputs": [],
   "source": [
    "import torch\n",
    "import torch.nn as nn\n",
    "from torch.utils.data import TensorDataset, DataLoader\n",
    "import numpy as np\n",
    "import matplotlib.pyplot as plt\n",
    "from tqdm import tqdm\n",
    "\n",
    "\n",
    "def run_multiple_inits_plot(\n",
    "    X: torch.Tensor,\n",
    "    Y: torch.Tensor,\n",
    "    hidden_dims: list = [64, 32],\n",
    "    learning_rate: float = 0.01,\n",
    "    num_runs: int = 5,\n",
    "    num_iterations: int = 100\n",
    "):\n",
    "    \"\"\"\n",
    "    Trains a model multiple times (each with a new random initialization)\n",
    "    and plots the final loss of each run.\n",
    "\n",
    "    The input and output dimensions are inferred automatically from X and Y.\n",
    "\n",
    "    Args:\n",
    "        X (torch.Tensor): Input features of shape (N, dim_x).\n",
    "        Y (torch.Tensor): Targets of shape (N, dim_y).\n",
    "        hidden_dims (list): List of hidden layer sizes for the MLP.\n",
    "        learning_rate (float): Learning rate for the optimizer.\n",
    "        num_runs (int): How many times to re-initialize and train the model.\n",
    "        num_iterations (int): Number of full-batch training epochs per run.\n",
    "    \"\"\"\n",
    "\n",
    "    # Infer dimensions from data\n",
    "    # X: (N, dim_x)\n",
    "    # Y: (N, dim_y)\n",
    "    dim_x = X.size(1)\n",
    "    dim_y = Y.size(1)\n",
    "\n",
    "    # Create a DataLoader in full-batch mode\n",
    "    dataset = TensorDataset(X, Y)\n",
    "    dataloader = DataLoader(dataset, batch_size=len(dataset), shuffle=False)\n",
    "\n",
    "    final_losses = []\n",
    "    final_params_list = []\n",
    "    \n",
    "    # Outer progress bar: how many runs are completed\n",
    "    for run_id in tqdm(range(num_runs), desc=\"Overall runs\"):\n",
    "        # Set the seed so each run has a reproducible but unique init\n",
    "        torch.manual_seed(run_id)\n",
    "        np.random.seed(run_id)\n",
    "        \n",
    "        # Create a fresh model and optimizer each run\n",
    "        model = LinearNN(dim_x, dim_y, hidden_dims)\n",
    "        optimizer = torch.optim.Adadelta(model.parameters(), lr=learning_rate)\n",
    "        criterion = nn.MSELoss()\n",
    "        \n",
    "        # Inner progress bar: training epochs\n",
    "        for epoch in tqdm(range(num_iterations), desc=f\"Run {run_id}\", leave=False):\n",
    "            model.train()\n",
    "            for batch_X, batch_Y in dataloader:\n",
    "                optimizer.zero_grad()\n",
    "                outputs = model(batch_X)\n",
    "                loss = criterion(outputs, batch_Y)\n",
    "                loss.backward()\n",
    "                optimizer.step()\n",
    "        \n",
    "        # Record the final loss and parameters\n",
    "        final_loss = loss.item()  # last computed loss\n",
    "        final_losses.append(final_loss)\n",
    "\n",
    "        # Flatten and store final parameters\n",
    "        final_params = torch.cat([p.flatten() for p in model.parameters()]).detach().cpu()\n",
    "        final_params_list.append(final_params)\n",
    "    \n",
    "    # Plot final losses across runs\n",
    "    plt.figure(figsize=(6, 4))\n",
    "    plt.bar(range(num_runs), final_losses)\n",
    "    plt.xlabel(\"Run index (seed)\")\n",
    "    plt.ylabel(\"Final training loss\")\n",
    "    plt.title(\"Final Loss for Multiple Runs (Different Inits)\")\n",
    "    plt.show()\n",
    "\n",
    "    # Return the final losses and parameters for further analysis\n",
    "    return final_losses, final_params_list\n"
   ]
  },
  {
   "cell_type": "code",
   "execution_count": 4,
   "metadata": {},
   "outputs": [
    {
     "name": "stderr",
     "output_type": "stream",
     "text": [
      "Overall runs: 100%|██████████| 20/20 [00:18<00:00,  1.07it/s]\n"
     ]
    },
    {
     "data": {
      "image/png": "[encoded data removed]",
      "text/plain": [
       "<Figure size 600x400 with 1 Axes>"
      ]
     },
     "metadata": {},
     "output_type": "display_data"
    }
   ],
   "source": [
    "final_losses, final_params = run_multiple_inits_plot(\n",
    "    X, Y,\n",
    "    hidden_dims=[64, 32],\n",
    "    learning_rate=0.01,\n",
    "    num_runs=20,\n",
    "    num_iterations=500\n",
    ")"
   ]
  },
  {
   "cell_type": "code",
   "execution_count": 5,
   "metadata": {},
   "outputs": [],
   "source": [
    "def param_distance(p1, p2):\n",
    "    # p1 and p2 are PyTorch tensors\n",
    "    return torch.norm(p1 - p2).item()"
   ]
  },
  {
   "cell_type": "code",
   "execution_count": 6,
   "metadata": {},
   "outputs": [],
   "source": [
    "import numpy as np\n",
    "import matplotlib.pyplot as plt\n",
    "\n",
    "num_runs = len(final_params)\n",
    "dist_matrix = np.zeros((num_runs, num_runs))\n",
    "\n",
    "for i in range(num_runs):\n",
    "    for j in range(num_runs):\n",
    "        dist_matrix[i, j] = param_distance(final_params[i], final_params[j])\n",
    "\n"
   ]
  },
  {
   "cell_type": "code",
   "execution_count": 7,
   "metadata": {},
   "outputs": [
    {
     "data": {
      "image/png": "[encoded data removed]",
      "text/plain": [
       "<Figure size 640x480 with 2 Axes>"
      ]
     },
     "metadata": {},
     "output_type": "display_data"
    }
   ],
   "source": [
    "plt.imshow(dist_matrix, cmap='viridis', interpolation='nearest')\n",
    "plt.colorbar()\n",
    "plt.xlabel(\"Run index\")\n",
    "plt.ylabel(\"Run index\")\n",
    "plt.title(\"Pairwise Distances (Argmins in Parameter Space)\")\n",
    "plt.show()\n"
   ]
  },
  {
   "cell_type": "markdown",
   "metadata": {},
   "source": [
    "They are indeed different argmin!"
   ]
  }
 ],
 "metadata": {
  "kernelspec": {
   "display_name": "EntornoDL",
   "language": "python",
   "name": "python3"
  },
  "language_info": {
   "codemirror_mode": {
    "name": "ipython",
    "version": 3
   },
   "file_extension": ".py",
   "mimetype": "text/x-python",
   "name": "python",
   "nbconvert_exporter": "python",
   "pygments_lexer": "ipython3",
   "version": "3.10.12"
  }
 },
 "nbformat": 4,
 "nbformat_minor": 4
}
